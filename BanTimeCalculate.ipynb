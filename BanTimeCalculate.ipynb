{
 "cells": [
  {
   "cell_type": "code",
   "execution_count": 1,
   "id": "dd067255-8d4e-4e67-b554-1e364c46402d",
   "metadata": {
    "tags": []
   },
   "outputs": [
    {
     "name": "stdin",
     "output_type": "stream",
     "text": [
      "Enter date (MM/DD/YYYY):  05/09/2023\n",
      "Enter time (HH:MM):  03:30\n",
      "Enter AM or PM:  PM\n",
      "Enter number of hours to add:  168\n"
     ]
    },
    {
     "name": "stdout",
     "output_type": "stream",
     "text": [
      "Date and time 168 hours later: May 16, 03:30 PM\n"
     ]
    }
   ],
   "source": [
    "import datetime\n",
    "\n",
    "# Get input from the user\n",
    "date = input(\"Enter date (MM/DD/YYYY): \")\n",
    "time = input(\"Enter time (HH:MM): \")\n",
    "ampm = input(\"Enter AM or PM: \")\n",
    "hours = int(input(\"Enter number of hours to add: \"))\n",
    "\n",
    "# Convert input strings to datetime object\n",
    "cacl_datetime = date + ' ' + time + ' ' + ampm\n",
    "initial_datetime = datetime.datetime.strptime(cacl_datetime, '%m/%d/%Y %I:%M %p')\n",
    "\n",
    "# Add specified number of hours to the initial date and time\n",
    "final_datetime = initial_datetime + datetime.timedelta(hours=hours)\n",
    "\n",
    "# Format the final date and time in 12-hour format\n",
    "format_datetime = final_datetime.strftime(\"%b %d, %I:%M %p\")\n",
    "\n",
    "print(\"Date and time\", hours, \"hours later:\", format_datetime)\n"
   ]
  },
  {
   "cell_type": "code",
   "execution_count": null,
   "id": "e08f9e85-8dc2-47f7-a9c4-11898d917ccc",
   "metadata": {},
   "outputs": [],
   "source": []
  }
 ],
 "metadata": {
  "kernelspec": {
   "display_name": "Python 3 (ipykernel)",
   "language": "python",
   "name": "python3"
  },
  "language_info": {
   "codemirror_mode": {
    "name": "ipython",
    "version": 3
   },
   "file_extension": ".py",
   "mimetype": "text/x-python",
   "name": "python",
   "nbconvert_exporter": "python",
   "pygments_lexer": "ipython3",
   "version": "3.9.7"
  }
 },
 "nbformat": 4,
 "nbformat_minor": 5
}
